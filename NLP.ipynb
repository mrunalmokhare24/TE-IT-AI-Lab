{
 "cells": [
  {
   "cell_type": "markdown",
   "id": "c9d897b2-46b7-4fb8-8389-594ac2b1ca92",
   "metadata": {},
   "source": [
    "import nltk"
   ]
  },
  {
   "cell_type": "code",
   "execution_count": 5,
   "id": "325b22ce-897a-4b5d-ac0d-d4015509fc5d",
   "metadata": {},
   "outputs": [],
   "source": [
    "from nltk import word_tokenize,sent_tokenize\n",
    "# nltk.download('punkt')\n",
    "sent=\"All Birds find shelter during a rain. But Eagle avoids rain by flying. All Birds find shelter during a rain. But Eagle avoids rain by flying above the Clouds. Problems are common, but attitude makes the difference!\""
   ]
  },
  {
   "cell_type": "code",
   "execution_count": 8,
   "id": "da18f4e6-049a-4cff-b924-334e37292636",
   "metadata": {},
   "outputs": [
    {
     "name": "stdout",
     "output_type": "stream",
     "text": [
      "['All', 'Birds', 'find', 'shelter', 'during', 'a', 'rain', '.', 'But', 'Eagle', 'avoids', 'rain', 'by', 'flying', '.', 'All', 'Birds', 'find', 'shelter', 'during', 'a', 'rain', '.', 'But', 'Eagle', 'avoids', 'rain', 'by', 'flying', 'above', 'the', 'Clouds', '.', 'Problems', 'are', 'common', ',', 'but', 'attitude', 'makes', 'the', 'difference', '!']\n"
     ]
    }
   ],
   "source": [
    "print(word_tokenize(sent))"
   ]
  },
  {
   "cell_type": "code",
   "execution_count": 9,
   "id": "0cea1d78-720a-4834-b953-e3ea0ab2bd0b",
   "metadata": {},
   "outputs": [
    {
     "name": "stdout",
     "output_type": "stream",
     "text": [
      "['All Birds find shelter during a rain.', 'But Eagle avoids rain by flying.', 'All Birds find shelter during a rain.', 'But Eagle avoids rain by flying above the Clouds.', 'Problems are common, but attitude makes the difference!']\n"
     ]
    }
   ],
   "source": [
    "print(sent_tokenize(sent))"
   ]
  },
  {
   "cell_type": "code",
   "execution_count": 11,
   "id": "114ead5d-8e60-4f4d-82fa-44a31b619947",
   "metadata": {},
   "outputs": [
    {
     "name": "stdout",
     "output_type": "stream",
     "text": [
      "['All', 'Birds', 'find', 'shelter', 'rain', '.', 'But', 'Eagle', 'avoids', 'rain', 'flying', '.', 'All', 'Birds', 'find', 'shelter', 'rain', '.', 'But', 'Eagle', 'avoids', 'rain', 'flying', 'Clouds', '.', 'Problems', 'common', ',', 'attitude', 'makes', 'difference', '!']\n"
     ]
    }
   ],
   "source": [
    "# nltk.download('stopwords')\n",
    "from nltk.corpus import stopwords\n",
    "stopword=stopwords.words('english')\n",
    "token=word_tokenize(sent)\n",
    "ans=[]\n",
    "for i in token:\n",
    "    if i not in stopword:\n",
    "        ans.append(i)\n",
    "print(ans)       "
   ]
  },
  {
   "cell_type": "code",
   "execution_count": 16,
   "id": "c5d8944c-0917-4345-b8ec-b3f218867bac",
   "metadata": {},
   "outputs": [
    {
     "name": "stdout",
     "output_type": "stream",
     "text": [
      "[('All', 'DT'), ('Birds', 'NNP'), ('find', 'VBP'), ('shelter', 'NN'), ('during', 'IN'), ('a', 'DT'), ('rain', 'NN'), ('.', '.'), ('But', 'CC'), ('Eagle', 'NNP'), ('avoids', 'NNS'), ('rain', 'NN'), ('by', 'IN'), ('flying', 'VBG'), ('.', '.'), ('All', 'DT'), ('Birds', 'NNP'), ('find', 'VBP'), ('shelter', 'NN'), ('during', 'IN'), ('a', 'DT'), ('rain', 'NN'), ('.', '.'), ('But', 'CC'), ('Eagle', 'NNP'), ('avoids', 'NNS'), ('rain', 'NN'), ('by', 'IN'), ('flying', 'VBG'), ('above', 'IN'), ('the', 'DT'), ('Clouds', 'NNP'), ('.', '.'), ('Problems', 'NNPS'), ('are', 'VBP'), ('common', 'JJ'), (',', ','), ('but', 'CC'), ('attitude', 'NN'), ('makes', 'VBZ'), ('the', 'DT'), ('difference', 'NN'), ('!', '.')]\n"
     ]
    }
   ],
   "source": [
    "# nltk.download('averaged_perceptron_tagger')\n",
    "from nltk import pos_tag\n",
    "token_tag=pos_tag(word_tokenize(sent))\n",
    "print(token_tag)"
   ]
  },
  {
   "cell_type": "code",
   "execution_count": 24,
   "id": "a79c70c4-16a3-4273-8964-3f0c2b5fe83a",
   "metadata": {},
   "outputs": [
    {
     "name": "stdout",
     "output_type": "stream",
     "text": [
      "Counter({'rain': 4, '.': 4, 'but': 3, 'all': 2, 'birds': 2, 'find': 2, 'shelter': 2, 'during': 2, 'a': 2, 'eagle': 2, 'avoids': 2, 'by': 2, 'flying': 2, 'the': 2, 'above': 1, 'clouds': 1, 'problems': 1, 'are': 1, 'common': 1, ',': 1, 'attitude': 1, 'makes': 1, 'difference': 1, '!': 1})\n"
     ]
    }
   ],
   "source": [
    "from collections import Counter\n",
    "def count_word_frequency(text):\n",
    "  \"\"\"Counts word frequency in text.\"\"\"\n",
    "  return Counter(nltk.word_tokenize(text.lower()))\n",
    "word_freqs = count_word_frequency(sent)\n",
    "print(word_freqs)"
   ]
  }
 ],
 "metadata": {
  "kernelspec": {
   "display_name": "Python 3 (ipykernel)",
   "language": "python",
   "name": "python3"
  },
  "language_info": {
   "codemirror_mode": {
    "name": "ipython",
    "version": 3
   },
   "file_extension": ".py",
   "mimetype": "text/x-python",
   "name": "python",
   "nbconvert_exporter": "python",
   "pygments_lexer": "ipython3",
   "version": "3.11.7"
  }
 },
 "nbformat": 4,
 "nbformat_minor": 5
}
