{
 "cells": [
  {
   "cell_type": "code",
   "execution_count": 1,
   "id": "451c7a4e-4921-4013-a915-a00d449b10e5",
   "metadata": {},
   "outputs": [],
   "source": [
    "import nltk"
   ]
  },
  {
   "cell_type": "code",
   "execution_count": 5,
   "id": "13a93fb1-60bc-4bce-8e6c-8efee48a0e7b",
   "metadata": {},
   "outputs": [
    {
     "name": "stderr",
     "output_type": "stream",
     "text": [
      "[nltk_data] Downloading package punkt to\n",
      "[nltk_data]     C:\\Users\\Admin\\AppData\\Roaming\\nltk_data...\n",
      "[nltk_data]   Unzipping tokenizers\\punkt.zip.\n"
     ]
    }
   ],
   "source": [
    "nltk.download('punkt')\n",
    "sent=\"I will never fail. I learn or i win\""
   ]
  },
  {
   "cell_type": "code",
   "execution_count": 7,
   "id": "d4e196ef-0804-4f2a-9663-4d6d34875b84",
   "metadata": {},
   "outputs": [
    {
     "name": "stdout",
     "output_type": "stream",
     "text": [
      "['I', 'will', 'never', 'fail', '.', 'I', 'learn', 'or', 'i', 'win']\n"
     ]
    }
   ],
   "source": [
    "print(word_tokenize(sent))"
   ]
  },
  {
   "cell_type": "code",
   "execution_count": 8,
   "id": "a6daadab-3fdd-4643-8a1a-fb28172abf40",
   "metadata": {},
   "outputs": [
    {
     "name": "stdout",
     "output_type": "stream",
     "text": [
      "['I will never fail.', 'I learn or i win']\n"
     ]
    }
   ],
   "source": [
    "print(sent_tokenize(sent))"
   ]
  },
  {
   "cell_type": "code",
   "execution_count": 10,
   "id": "82afbd37-d697-4b15-8bf0-4bdd9e89b95f",
   "metadata": {},
   "outputs": [
    {
     "name": "stderr",
     "output_type": "stream",
     "text": [
      "[nltk_data] Downloading package stopwords to\n",
      "[nltk_data]     C:\\Users\\Admin\\AppData\\Roaming\\nltk_data...\n",
      "[nltk_data]   Unzipping corpora\\stopwords.zip.\n"
     ]
    }
   ],
   "source": [
    "nltk.download('stopwords')\n",
    "from nltk.corpus import stopwords"
   ]
  },
  {
   "cell_type": "code",
   "execution_count": 2,
   "id": "e83f3244-dd20-4102-bdc5-715de507953e",
   "metadata": {},
   "outputs": [],
   "source": [
    "from nltk import word_tokenize,sent_tokenize"
   ]
  },
  {
   "cell_type": "code",
   "execution_count": null,
   "id": "c578f3e1-224c-46e1-8327-9dc64a3fbe91",
   "metadata": {},
   "outputs": [],
   "source": [
    "stopword=stopwords.words('english')\n",
    "token=word_tokenize(sent)\n",
    "ans=[]\n",
    "for i in token:\n",
    "    if i not in stopword:\n",
    "        ans.append(i)\n",
    "print(ans)        "
   ]
  },
  {
   "cell_type": "code",
   "execution_count": null,
   "id": "8e38b0ed-b2c1-4af2-b2ac-40b19f160348",
   "metadata": {},
   "outputs": [],
   "source": [
    "nltk.download('averaged_perception_tagger')\n",
    "from nltk import pos_tag"
   ]
  },
  {
   "cell_type": "code",
   "execution_count": null,
   "id": "c7420284-6dd5-4f6c-9420-b815cae8dfe7",
   "metadata": {},
   "outputs": [],
   "source": [
    "token_tag=pos_tag(word_tokenize(sent))\n",
    "print(token_tag)\n"
   ]
  },
  {
   "cell_type": "code",
   "execution_count": null,
   "id": "5670014d-2d94-449e-92cf-dd29aa10885c",
   "metadata": {},
   "outputs": [],
   "source": [
    "from collections import Counter\n",
    "import nltk\n",
    "\n",
    "def count_word_frequency(text):\n",
    "  \"\"\"Counts word frequency in text.\"\"\"\n",
    "  nltk.download('punkt')\n",
    "  return Counter(nltk.word_tokenize(text.lower()))\n",
    "\n",
    "# Example usage\n",
    "text = \"This is a sample text to count word frequency.\"\n",
    "word_freqs = count_word_frequency(text)\n",
    "\n",
    "# Print most frequent 3 words\n",
    "print(word_freqs.most_common(3))"
   ]
  }
 ],
 "metadata": {
  "kernelspec": {
   "display_name": "Python 3 (ipykernel)",
   "language": "python",
   "name": "python3"
  },
  "language_info": {
   "codemirror_mode": {
    "name": "ipython",
    "version": 3
   },
   "file_extension": ".py",
   "mimetype": "text/x-python",
   "name": "python",
   "nbconvert_exporter": "python",
   "pygments_lexer": "ipython3",
   "version": "3.11.7"
  }
 },
 "nbformat": 4,
 "nbformat_minor": 5
}
